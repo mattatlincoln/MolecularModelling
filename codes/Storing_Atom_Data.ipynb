{
 "cells": [
  {
   "cell_type": "markdown",
   "id": "b6983017",
   "metadata": {},
   "source": [
    "# Storing Atomic Information\n",
    "\n",
    "<div class=\"alert alert-info\">\n",
    "to run and analyse a molecular dynamics simulation we need data structures to allow us to store and use information about our system - atomic positions, types, velocities.\n",
    "\n",
    "In this workbook we'll set up some methods using numpy and python arrays that can be used for this. \n",
    "    </div>"
   ]
  },
  {
   "cell_type": "code",
   "execution_count": 1,
   "id": "ad91699c",
   "metadata": {},
   "outputs": [],
   "source": [
    "# load in the numpy library\n",
    "import numpy as np"
   ]
  },
  {
   "cell_type": "markdown",
   "id": "c960b238",
   "metadata": {},
   "source": [
    "Storing a vector - could be an atoms position or velocity at an instant in time."
   ]
  },
  {
   "cell_type": "code",
   "execution_count": 3,
   "id": "1fb9db82",
   "metadata": {},
   "outputs": [],
   "source": [
    "pos1 = np.array([0.0, 1.0, 2.0])"
   ]
  },
  {
   "cell_type": "markdown",
   "id": "f1f56724",
   "metadata": {},
   "source": [
    "we can access the x, y and z components using `[]` syntax - it starts from `0` for `x`"
   ]
  },
  {
   "cell_type": "code",
   "execution_count": 4,
   "id": "3b1709ff",
   "metadata": {
    "scrolled": true
   },
   "outputs": [
    {
     "name": "stdout",
     "output_type": "stream",
     "text": [
      "0.0\n"
     ]
    }
   ],
   "source": [
    "print(pos1[0])"
   ]
  },
  {
   "cell_type": "markdown",
   "id": "4224ad44",
   "metadata": {},
   "source": [
    "What if we have more than one atom? We can have a 2D array with the first index giving atom number and the second index the component:"
   ]
  },
  {
   "cell_type": "code",
   "execution_count": 5,
   "id": "89a33470",
   "metadata": {},
   "outputs": [
    {
     "name": "stdout",
     "output_type": "stream",
     "text": [
      "[[0, 0, 0], [0, 0, 1], [0, 0, 2], [0, 0, 3]]\n"
     ]
    }
   ],
   "source": [
    "## a 2D array has to have two sets of square brackets [[]] and the 'vectors' in the inner set are a comma separated list\n",
    "\n",
    "atomspos = [\n",
    "    [0,0,0],\n",
    "    [0,0,1],\n",
    "    [0,0,2],\n",
    "    [0,0,3]\n",
    "]\n",
    "print(atomspos)"
   ]
  },
  {
   "cell_type": "markdown",
   "id": "73d08fd9",
   "metadata": {},
   "source": [
    "This is a python array - these can be appended to:"
   ]
  },
  {
   "cell_type": "code",
   "execution_count": 6,
   "id": "82b5246b",
   "metadata": {},
   "outputs": [
    {
     "name": "stdout",
     "output_type": "stream",
     "text": [
      "[[0, 0, 0], [0, 0, 1], [0, 0, 2], [0, 0, 3], [0, 0, 4]]\n"
     ]
    }
   ],
   "source": [
    "atomspos.append([0,0,4])\n",
    "print(atomspos)"
   ]
  },
  {
   "cell_type": "markdown",
   "id": "3e93ae76",
   "metadata": {},
   "source": [
    "To access an individual atom or component we use `[]` again:"
   ]
  },
  {
   "cell_type": "code",
   "execution_count": 7,
   "id": "c0cf8cdf",
   "metadata": {},
   "outputs": [
    {
     "name": "stdout",
     "output_type": "stream",
     "text": [
      "the position vector of atom #1 is [0, 0, 1]\n"
     ]
    }
   ],
   "source": [
    "print(\"the position vector of atom #1 is {}\".format(atomspos[1]))"
   ]
  },
  {
   "cell_type": "code",
   "execution_count": 8,
   "id": "92983d10",
   "metadata": {},
   "outputs": [
    {
     "ename": "TypeError",
     "evalue": "list indices must be integers or slices, not tuple",
     "output_type": "error",
     "traceback": [
      "\u001b[1;31m---------------------------------------------------------------------------\u001b[0m",
      "\u001b[1;31mTypeError\u001b[0m                                 Traceback (most recent call last)",
      "Input \u001b[1;32mIn [8]\u001b[0m, in \u001b[0;36m<cell line: 2>\u001b[1;34m()\u001b[0m\n\u001b[0;32m      1\u001b[0m \u001b[38;5;66;03m# now update all our atom x positions - here just by a fixed amount\u001b[39;00m\n\u001b[1;32m----> 2\u001b[0m atomspos[:,\u001b[38;5;241m0\u001b[39m] \u001b[38;5;241m+\u001b[39m\u001b[38;5;241m=\u001b[39m \u001b[38;5;241m0.1\u001b[39m\n",
      "\u001b[1;31mTypeError\u001b[0m: list indices must be integers or slices, not tuple"
     ]
    }
   ],
   "source": [
    "# now update all our atom x positions - here just by a fixed amount\n",
    "atomspos[:,0] += 0.1"
   ]
  },
  {
   "cell_type": "markdown",
   "id": "ae81262b",
   "metadata": {},
   "source": [
    "<div class=\"alert alert-danger\">this doesn't work because it is a python array - we would need a for loop over all the atoms to do this - instead let's convert atomspos into a numpy array then this will 'just work'</div>"
   ]
  },
  {
   "cell_type": "code",
   "execution_count": 9,
   "id": "864e8847",
   "metadata": {},
   "outputs": [],
   "source": [
    "atomspos = np.array(atomspos)"
   ]
  },
  {
   "cell_type": "code",
   "execution_count": 10,
   "id": "6e8bcc6a",
   "metadata": {},
   "outputs": [
    {
     "name": "stdout",
     "output_type": "stream",
     "text": [
      "[[1 0 0]\n",
      " [1 0 1]\n",
      " [1 0 2]\n",
      " [1 0 3]\n",
      " [1 0 4]]\n"
     ]
    }
   ],
   "source": [
    "atomspos[:,0] += 1\n",
    "print(atomspos)"
   ]
  },
  {
   "cell_type": "markdown",
   "id": "76778545",
   "metadata": {},
   "source": [
    "<div class=\"alert alert-danger\">Note that numpy arrays are `typed` - as we gave them as integers python assumed that is what they should be. It will complain if we try to add a float</div>"
   ]
  },
  {
   "cell_type": "code",
   "execution_count": 11,
   "id": "bfc8658a",
   "metadata": {},
   "outputs": [
    {
     "ename": "UFuncTypeError",
     "evalue": "Cannot cast ufunc 'add' output from dtype('float64') to dtype('int32') with casting rule 'same_kind'",
     "output_type": "error",
     "traceback": [
      "\u001b[1;31m---------------------------------------------------------------------------\u001b[0m",
      "\u001b[1;31mUFuncTypeError\u001b[0m                            Traceback (most recent call last)",
      "Input \u001b[1;32mIn [11]\u001b[0m, in \u001b[0;36m<cell line: 1>\u001b[1;34m()\u001b[0m\n\u001b[1;32m----> 1\u001b[0m atomspos[:,\u001b[38;5;241m0\u001b[39m] \u001b[38;5;241m+\u001b[39m\u001b[38;5;241m=\u001b[39m \u001b[38;5;241m0.1\u001b[39m\n",
      "\u001b[1;31mUFuncTypeError\u001b[0m: Cannot cast ufunc 'add' output from dtype('float64') to dtype('int32') with casting rule 'same_kind'"
     ]
    }
   ],
   "source": [
    "atomspos[:,0] += 0.1"
   ]
  },
  {
   "cell_type": "markdown",
   "id": "90537c76",
   "metadata": {},
   "source": [
    "<div class=\"alert alert-warning\">To avoid that use floats to start with or specify the type of the array you create (look it up give the dtype value when you create the nparray)</div>"
   ]
  },
  {
   "cell_type": "markdown",
   "id": "5537aba1",
   "metadata": {},
   "source": [
    "# Trajectories\n",
    "\n",
    "If we want to store data for multiple time steps we can use a python array and `append()` the new set of data to it:"
   ]
  },
  {
   "cell_type": "code",
   "execution_count": 12,
   "id": "119857d9",
   "metadata": {},
   "outputs": [
    {
     "name": "stdout",
     "output_type": "stream",
     "text": [
      "[[array([[1, 0, 0],\n",
      "       [1, 0, 1],\n",
      "       [1, 0, 2],\n",
      "       [1, 0, 3],\n",
      "       [1, 0, 4]])]]\n"
     ]
    }
   ],
   "source": [
    "mytrajectory = []\n",
    "mytrajectory.append([atomspos])\n",
    "print(mytrajectory)"
   ]
  },
  {
   "cell_type": "code",
   "execution_count": 13,
   "id": "bbae8af7",
   "metadata": {},
   "outputs": [
    {
     "name": "stdout",
     "output_type": "stream",
     "text": [
      "[[array([[2, 0, 0],\n",
      "       [2, 0, 1],\n",
      "       [2, 0, 2],\n",
      "       [2, 0, 3],\n",
      "       [2, 0, 4]])], [array([[2, 0, 0],\n",
      "       [2, 0, 1],\n",
      "       [2, 0, 2],\n",
      "       [2, 0, 3],\n",
      "       [2, 0, 4]])]]\n"
     ]
    }
   ],
   "source": [
    "atomspos[:,0] += 1\n",
    "mytrajectory.append([atomspos])\n",
    "print(mytrajectory)"
   ]
  },
  {
   "cell_type": "code",
   "execution_count": 14,
   "id": "34d9ca34",
   "metadata": {},
   "outputs": [
    {
     "name": "stdout",
     "output_type": "stream",
     "text": [
      "[[array([[3, 0, 0],\n",
      "       [3, 0, 1],\n",
      "       [3, 0, 2],\n",
      "       [3, 0, 3],\n",
      "       [3, 0, 4]])], [array([[3, 0, 0],\n",
      "       [3, 0, 1],\n",
      "       [3, 0, 2],\n",
      "       [3, 0, 3],\n",
      "       [3, 0, 4]])], [array([[3, 0, 0],\n",
      "       [3, 0, 1],\n",
      "       [3, 0, 2],\n",
      "       [3, 0, 3],\n",
      "       [3, 0, 4]])]]\n"
     ]
    }
   ],
   "source": [
    "atomspos[:,0] += 1\n",
    "mytrajectory.append([atomspos])\n",
    "print(mytrajectory)"
   ]
  },
  {
   "cell_type": "markdown",
   "id": "e0087c8e",
   "metadata": {},
   "source": [
    "<div class=\"alert alert-danger\">Oh no! All the data are the same! We need to append a copy of our atomspos data. By default we pass a reference to **the same data** each time!</div>"
   ]
  },
  {
   "cell_type": "markdown",
   "id": "011864c3",
   "metadata": {},
   "source": [
    "### Let's try again\n",
    "this time we'll make the data floating point and a numpy array straight away:"
   ]
  },
  {
   "cell_type": "code",
   "execution_count": 83,
   "id": "7280b579",
   "metadata": {},
   "outputs": [
    {
     "data": {
      "text/plain": [
       "array([[0., 0., 0.],\n",
       "       [0., 0., 1.],\n",
       "       [0., 0., 2.],\n",
       "       [0., 0., 3.]])"
      ]
     },
     "execution_count": 83,
     "metadata": {},
     "output_type": "execute_result"
    }
   ],
   "source": [
    "mytrajectory = []\n",
    "atomspos = np.array([\n",
    "    [0,0,0],\n",
    "    [0,0,1],\n",
    "    [0,0,2],\n",
    "    [0,0,3]\n",
    "], dtype='float64')\n",
    "atomspos"
   ]
  },
  {
   "cell_type": "markdown",
   "id": "a9917f5d",
   "metadata": {},
   "source": [
    "now we'll use a loop to fill in ten 'steps'"
   ]
  },
  {
   "cell_type": "code",
   "execution_count": 85,
   "id": "a054b05c",
   "metadata": {},
   "outputs": [],
   "source": [
    "for t in range(100000):\n",
    "    mytrajectory.append(np.copy(atomspos))\n",
    "    mu = 0\n",
    "    sigma = 0.5\n",
    "    atomspos[:,0] += np.random.normal(mu, sigma, 4)\n",
    "    #atomspos[:,0] += np.random.random()\n",
    "#print(mytrajectory)"
   ]
  },
  {
   "cell_type": "markdown",
   "id": "e621b280",
   "metadata": {},
   "source": [
    "<div class=\"alert alert-success\">\n",
    "Hurrah. That works! Now we have all the data and can access it using 3 indices `[timestep, atom, component]`\n",
    "</div>\n",
    "<div class=\"alert alert-warning\"> \n",
    "    But let's convert the trajectory to a numpy array beforehand (we don't do this in the beginning as you can't append to a numpy array )\n",
    "    </div>"
   ]
  },
  {
   "cell_type": "code",
   "execution_count": 86,
   "id": "9901ed70",
   "metadata": {},
   "outputs": [],
   "source": [
    "mytrajectory = np.array(mytrajectory)"
   ]
  },
  {
   "cell_type": "code",
   "execution_count": 90,
   "id": "713ecf77",
   "metadata": {},
   "outputs": [],
   "source": [
    "# get all the time data (: is shorthand for this) and then select atom 0 and component 0\n",
    "xcompofatom0 = mytrajectory[:,1,0] "
   ]
  },
  {
   "cell_type": "code",
   "execution_count": 91,
   "id": "194d6e3e",
   "metadata": {},
   "outputs": [],
   "source": [
    "import matplotlib.pyplot as plt"
   ]
  },
  {
   "cell_type": "code",
   "execution_count": 92,
   "id": "07e6a681",
   "metadata": {},
   "outputs": [
    {
     "data": {
      "image/png": "[encoded data removed]",
      "text/plain": [
       "<Figure size 432x288 with 1 Axes>"
      ]
     },
     "metadata": {
      "needs_background": "light"
     },
     "output_type": "display_data"
    }
   ],
   "source": [
    "plt.plot(xcompofatom0);"
   ]
  },
  {
   "cell_type": "markdown",
   "id": "5021ef1d",
   "metadata": {},
   "source": [
    "# That's it\n",
    "\n",
    "we'll use this to store data in the full MD code.\n",
    "Once the data is in a numpy array we can measure things like RMSD, distributions of velocities etc using standard python / numpy commands. "
   ]
  },
  {
   "cell_type": "code",
   "execution_count": null,
   "id": "d33ee230",
   "metadata": {},
   "outputs": [],
   "source": [
    "np.random.random()"
   ]
  },
  {
   "cell_type": "code",
   "execution_count": 3,
   "id": "01bd6c3f",
   "metadata": {},
   "outputs": [
    {
     "data": {
      "text/plain": [
       "array([[0., 0., 0.],\n",
       "       [0., 0., 0.],\n",
       "       [0., 0., 0.],\n",
       "       [0., 0., 0.],\n",
       "       [0., 0., 0.],\n",
       "       [0., 0., 0.],\n",
       "       [0., 0., 0.],\n",
       "       [0., 0., 0.],\n",
       "       [0., 0., 0.],\n",
       "       [0., 0., 0.],\n",
       "       [0., 0., 0.],\n",
       "       [0., 0., 0.],\n",
       "       [0., 0., 0.],\n",
       "       [0., 0., 0.],\n",
       "       [0., 0., 0.],\n",
       "       [0., 0., 0.],\n",
       "       [0., 0., 0.],\n",
       "       [0., 0., 0.],\n",
       "       [0., 0., 0.],\n",
       "       [0., 0., 0.],\n",
       "       [0., 0., 0.],\n",
       "       [0., 0., 0.],\n",
       "       [0., 0., 0.],\n",
       "       [0., 0., 0.],\n",
       "       [0., 0., 0.],\n",
       "       [0., 0., 0.],\n",
       "       [0., 0., 0.],\n",
       "       [0., 0., 0.],\n",
       "       [0., 0., 0.],\n",
       "       [0., 0., 0.],\n",
       "       [0., 0., 0.],\n",
       "       [0., 0., 0.],\n",
       "       [0., 0., 0.],\n",
       "       [0., 0., 0.],\n",
       "       [0., 0., 0.],\n",
       "       [0., 0., 0.],\n",
       "       [0., 0., 0.],\n",
       "       [0., 0., 0.],\n",
       "       [0., 0., 0.],\n",
       "       [0., 0., 0.],\n",
       "       [0., 0., 0.],\n",
       "       [0., 0., 0.],\n",
       "       [0., 0., 0.],\n",
       "       [0., 0., 0.],\n",
       "       [0., 0., 0.],\n",
       "       [0., 0., 0.],\n",
       "       [0., 0., 0.],\n",
       "       [0., 0., 0.],\n",
       "       [0., 0., 0.],\n",
       "       [0., 0., 0.],\n",
       "       [0., 0., 0.],\n",
       "       [0., 0., 0.],\n",
       "       [0., 0., 0.],\n",
       "       [0., 0., 0.],\n",
       "       [0., 0., 0.],\n",
       "       [0., 0., 0.],\n",
       "       [0., 0., 0.],\n",
       "       [0., 0., 0.],\n",
       "       [0., 0., 0.],\n",
       "       [0., 0., 0.],\n",
       "       [0., 0., 0.],\n",
       "       [0., 0., 0.],\n",
       "       [0., 0., 0.],\n",
       "       [0., 0., 0.],\n",
       "       [0., 0., 0.],\n",
       "       [0., 0., 0.],\n",
       "       [0., 0., 0.],\n",
       "       [0., 0., 0.],\n",
       "       [0., 0., 0.],\n",
       "       [0., 0., 0.],\n",
       "       [0., 0., 0.],\n",
       "       [0., 0., 0.],\n",
       "       [0., 0., 0.],\n",
       "       [0., 0., 0.],\n",
       "       [0., 0., 0.],\n",
       "       [0., 0., 0.],\n",
       "       [0., 0., 0.],\n",
       "       [0., 0., 0.],\n",
       "       [0., 0., 0.],\n",
       "       [0., 0., 0.],\n",
       "       [0., 0., 0.],\n",
       "       [0., 0., 0.],\n",
       "       [0., 0., 0.],\n",
       "       [0., 0., 0.],\n",
       "       [0., 0., 0.],\n",
       "       [0., 0., 0.],\n",
       "       [0., 0., 0.],\n",
       "       [0., 0., 0.],\n",
       "       [0., 0., 0.],\n",
       "       [0., 0., 0.],\n",
       "       [0., 0., 0.],\n",
       "       [0., 0., 0.],\n",
       "       [0., 0., 0.],\n",
       "       [0., 0., 0.],\n",
       "       [0., 0., 0.],\n",
       "       [0., 0., 0.],\n",
       "       [0., 0., 0.],\n",
       "       [0., 0., 0.],\n",
       "       [0., 0., 0.],\n",
       "       [0., 0., 0.]])"
      ]
     },
     "execution_count": 3,
     "metadata": {},
     "output_type": "execute_result"
    }
   ],
   "source": [
    "coords = np.zeros((100,3))\n",
    "coords"
   ]
  },
  {
   "cell_type": "code",
   "execution_count": 7,
   "id": "7f88bf28",
   "metadata": {},
   "outputs": [
    {
     "data": {
      "text/plain": [
       "array([[  0. ,   0. ,   0. ],\n",
       "       [  0. ,   0. ,   1.2],\n",
       "       [  0. ,   0. ,   2.4],\n",
       "       [  0. ,   0. ,   3.6],\n",
       "       [  0. ,   0. ,   4.8],\n",
       "       [  0. ,   0. ,   6. ],\n",
       "       [  0. ,   0. ,   7.2],\n",
       "       [  0. ,   0. ,   8.4],\n",
       "       [  0. ,   0. ,   9.6],\n",
       "       [  0. ,   0. ,  10.8],\n",
       "       [  0. ,   0. ,  12. ],\n",
       "       [  0. ,   0. ,  13.2],\n",
       "       [  0. ,   0. ,  14.4],\n",
       "       [  0. ,   0. ,  15.6],\n",
       "       [  0. ,   0. ,  16.8],\n",
       "       [  0. ,   0. ,  18. ],\n",
       "       [  0. ,   0. ,  19.2],\n",
       "       [  0. ,   0. ,  20.4],\n",
       "       [  0. ,   0. ,  21.6],\n",
       "       [  0. ,   0. ,  22.8],\n",
       "       [  0. ,   0. ,  24. ],\n",
       "       [  0. ,   0. ,  25.2],\n",
       "       [  0. ,   0. ,  26.4],\n",
       "       [  0. ,   0. ,  27.6],\n",
       "       [  0. ,   0. ,  28.8],\n",
       "       [  0. ,   0. ,  30. ],\n",
       "       [  0. ,   0. ,  31.2],\n",
       "       [  0. ,   0. ,  32.4],\n",
       "       [  0. ,   0. ,  33.6],\n",
       "       [  0. ,   0. ,  34.8],\n",
       "       [  0. ,   0. ,  36. ],\n",
       "       [  0. ,   0. ,  37.2],\n",
       "       [  0. ,   0. ,  38.4],\n",
       "       [  0. ,   0. ,  39.6],\n",
       "       [  0. ,   0. ,  40.8],\n",
       "       [  0. ,   0. ,  42. ],\n",
       "       [  0. ,   0. ,  43.2],\n",
       "       [  0. ,   0. ,  44.4],\n",
       "       [  0. ,   0. ,  45.6],\n",
       "       [  0. ,   0. ,  46.8],\n",
       "       [  0. ,   0. ,  48. ],\n",
       "       [  0. ,   0. ,  49.2],\n",
       "       [  0. ,   0. ,  50.4],\n",
       "       [  0. ,   0. ,  51.6],\n",
       "       [  0. ,   0. ,  52.8],\n",
       "       [  0. ,   0. ,  54. ],\n",
       "       [  0. ,   0. ,  55.2],\n",
       "       [  0. ,   0. ,  56.4],\n",
       "       [  0. ,   0. ,  57.6],\n",
       "       [  0. ,   0. ,  58.8],\n",
       "       [  0. ,   0. ,  60. ],\n",
       "       [  0. ,   0. ,  61.2],\n",
       "       [  0. ,   0. ,  62.4],\n",
       "       [  0. ,   0. ,  63.6],\n",
       "       [  0. ,   0. ,  64.8],\n",
       "       [  0. ,   0. ,  66. ],\n",
       "       [  0. ,   0. ,  67.2],\n",
       "       [  0. ,   0. ,  68.4],\n",
       "       [  0. ,   0. ,  69.6],\n",
       "       [  0. ,   0. ,  70.8],\n",
       "       [  0. ,   0. ,  72. ],\n",
       "       [  0. ,   0. ,  73.2],\n",
       "       [  0. ,   0. ,  74.4],\n",
       "       [  0. ,   0. ,  75.6],\n",
       "       [  0. ,   0. ,  76.8],\n",
       "       [  0. ,   0. ,  78. ],\n",
       "       [  0. ,   0. ,  79.2],\n",
       "       [  0. ,   0. ,  80.4],\n",
       "       [  0. ,   0. ,  81.6],\n",
       "       [  0. ,   0. ,  82.8],\n",
       "       [  0. ,   0. ,  84. ],\n",
       "       [  0. ,   0. ,  85.2],\n",
       "       [  0. ,   0. ,  86.4],\n",
       "       [  0. ,   0. ,  87.6],\n",
       "       [  0. ,   0. ,  88.8],\n",
       "       [  0. ,   0. ,  90. ],\n",
       "       [  0. ,   0. ,  91.2],\n",
       "       [  0. ,   0. ,  92.4],\n",
       "       [  0. ,   0. ,  93.6],\n",
       "       [  0. ,   0. ,  94.8],\n",
       "       [  0. ,   0. ,  96. ],\n",
       "       [  0. ,   0. ,  97.2],\n",
       "       [  0. ,   0. ,  98.4],\n",
       "       [  0. ,   0. ,  99.6],\n",
       "       [  0. ,   0. , 100.8],\n",
       "       [  0. ,   0. , 102. ],\n",
       "       [  0. ,   0. , 103.2],\n",
       "       [  0. ,   0. , 104.4],\n",
       "       [  0. ,   0. , 105.6],\n",
       "       [  0. ,   0. , 106.8],\n",
       "       [  0. ,   0. , 108. ],\n",
       "       [  0. ,   0. , 109.2],\n",
       "       [  0. ,   0. , 110.4],\n",
       "       [  0. ,   0. , 111.6],\n",
       "       [  0. ,   0. , 112.8],\n",
       "       [  0. ,   0. , 114. ],\n",
       "       [  0. ,   0. , 115.2],\n",
       "       [  0. ,   0. , 116.4],\n",
       "       [  0. ,   0. , 117.6],\n",
       "       [  0. ,   0. , 118.8]])"
      ]
     },
     "execution_count": 7,
     "metadata": {},
     "output_type": "execute_result"
    }
   ],
   "source": []
  },
  {
   "cell_type": "code",
   "execution_count": null,
   "id": "5f3f3c32",
   "metadata": {},
   "outputs": [],
   "source": []
  }
 ],
 "metadata": {
  "kernelspec": {
   "display_name": "Python 3 (ipykernel)",
   "language": "python",
   "name": "python3"
  },
  "language_info": {
   "codemirror_mode": {
    "name": "ipython",
    "version": 3
   },
   "file_extension": ".py",
   "mimetype": "text/x-python",
   "name": "python",
   "nbconvert_exporter": "python",
   "pygments_lexer": "ipython3",
   "version": "3.8.13"
  }
 },
 "nbformat": 4,
 "nbformat_minor": 5
}
